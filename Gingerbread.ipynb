{
 "cells": [
  {
   "cell_type": "markdown",
   "metadata": {},
   "source": [
    "# Gingerbread fourier series\n",
    "### Ola Persson\n",
    "### November 2019"
   ]
  },
  {
   "cell_type": "markdown",
   "metadata": {},
   "source": [
    "## Gingerbread fourier series\n",
    "\n",
    "- A typical Swedish gingerbread\n",
    "- Equations for hearts\n",
    "- Shapes\n",
    "- Shape selection\n",
    "- Shapes with complex numbers\n",
    "- Fourier series of a shape\n",
    "- Frequency contents\n",
    "- Compression\n",
    "- Want to learn more?"
   ]
  },
  {
   "cell_type": "markdown",
   "metadata": {},
   "source": [
    "## A typical Swedish gingerbread\n",
    "\n",
    "- Flavoured with Butter, Ginger, Cloves, Cinnamon & Molasses\n",
    "\n",
    "<img src=\"gingerbread.JPG\" alt=\"Drawing\" style=\"width: 300px;\"/>\n",
    "     "
   ]
  },
  {
   "cell_type": "markdown",
   "metadata": {},
   "source": [
    "## Equations for hearts\n",
    "\n",
    "* Internet contains a lot of equations for heart shapes\n",
    "* We start with circle and modify that to heart shapes\n",
    "* We also try another shape"
   ]
  },
  {
   "cell_type": "code",
   "execution_count": null,
   "metadata": {},
   "outputs": [],
   "source": [
    "import numpy as np\n",
    "import matplotlib.pyplot as plt\n",
    "\n",
    "plt.rcParams['figure.figsize'] = [10, 5]\n",
    "\n",
    "nr_points=1024\n",
    "t=np.linspace(0,2*np.pi,nr_points)"
   ]
  },
  {
   "cell_type": "code",
   "execution_count": null,
   "metadata": {},
   "outputs": [],
   "source": [
    "x=np.cos(t)\n",
    "y=np.sin(t)\n",
    "plt.axis(\"equal\")\n",
    "plt.plot(x,y)\n",
    "plt.arrow(0.25,-0.95,0,0.2,ec=\"red\",head_width=0.1)\n",
    "plt.arrow(0.75,-0.65,0,0.4,ec=\"red\",head_width=0.1)\n",
    "plt.arrow(0.25,0.6,0,0.2,ec=\"red\",head_width=0.1)\n",
    "plt.arrow(0.75,0.15,0,0.4,ec=\"red\",head_width=0.1)\n",
    "plt.arrow(-0.25,-0.95,0,0.2,ec=\"red\",head_width=0.1)\n",
    "plt.arrow(-0.75,-0.65,0,0.4,ec=\"red\",head_width=0.1)\n",
    "plt.arrow(-0.25,0.6,0,0.2,ec=\"red\",head_width=0.1)\n",
    "plt.arrow(-0.75,0.15,0,0.4,ec=\"red\",head_width=0.1)\n",
    "plt.show()"
   ]
  },
  {
   "cell_type": "code",
   "execution_count": null,
   "metadata": {},
   "outputs": [],
   "source": [
    "#Proposal from Stackexchange\n",
    "\n",
    "x1=np.cos(t)\n",
    "y1=np.sin(t)+np.sqrt(abs(x1))\n",
    "plt.axis(\"equal\")\n",
    "plt.plot(x1,y1)\n",
    "plt.show()"
   ]
  },
  {
   "cell_type": "code",
   "execution_count": null,
   "metadata": {},
   "outputs": [],
   "source": [
    "#Modified version of example above \n",
    "\n",
    "x2=np.cos(t)\n",
    "y2=np.sin(t)+abs(x2)\n",
    "plt.axis(\"equal\")\n",
    "plt.plot(x2,y2)\n",
    "plt.show()"
   ]
  },
  {
   "cell_type": "code",
   "execution_count": null,
   "metadata": {
    "scrolled": true
   },
   "outputs": [],
   "source": [
    "#Two orthogonal lines combined with two half circles.\n",
    "x3=np.zeros(nr_points)\n",
    "y3=np.zeros(nr_points)\n",
    "split=round(nr_points/4)\n",
    "\n",
    "#Build a line\n",
    "for i in range(0,split):\n",
    "    x3[i]=i*1.0/split\n",
    "    y3[i]=-1.0+i*1.0/split\n",
    "\n",
    "#Build half circle turned pi/4 with radius 1/sqrt(2)\n",
    "for i in range(0,split):\n",
    "    x3[i+split]=1-1/2+np.cos(np.pi*i/split-np.pi/4)/np.sqrt(2)\n",
    "    y3[i+split]=1/2+np.sin(np.pi*i/split-np.pi/4)/np.sqrt(2)\n",
    "\n",
    "#Mirror the image    \n",
    "for i in range(2*split,4*split):\n",
    "    x3[i]=-x3[4*split-i-1]\n",
    "    y3[i]=y3[4*split-i-1]\n",
    "\n",
    "plt.axis(\"equal\")\n",
    "plt.plot(x3,y3)\n",
    "plt.show()"
   ]
  },
  {
   "cell_type": "markdown",
   "metadata": {},
   "source": [
    "## Shape selection\n"
   ]
  },
  {
   "cell_type": "code",
   "execution_count": null,
   "metadata": {},
   "outputs": [],
   "source": [
    "import matplotlib.image as mpimg\n",
    "img=mpimg.imread(\"gingerbread.jpg\")\n",
    "\n",
    "fig, axs = plt.subplots(2,2)\n",
    "\n",
    "axs[0,0].imshow(img)\n",
    "axs[1,0].axis(\"equal\")\n",
    "axs[1,0].plot(x1,y1)\n",
    "axs[0,1].axis(\"equal\")\n",
    "axs[0,1].plot(x2,y2)\n",
    "axs[1,1].axis(\"equal\")\n",
    "axs[1,1].plot(x3,y3)\n",
    "plt.show()"
   ]
  },
  {
   "cell_type": "markdown",
   "metadata": {},
   "source": [
    "## Shapes with complex numbers\n",
    "\n",
    "* Shapes can be described as series of complex numbers\n",
    "* We will define an array of complex numbers representing the points on the shape\n",
    "* Finally we will plot it"
   ]
  },
  {
   "cell_type": "code",
   "execution_count": null,
   "metadata": {
    "scrolled": true
   },
   "outputs": [],
   "source": [
    "#Complex numbers is very easy to use in Python\n",
    "heart_complex=x3+1j*y3\n",
    "\n",
    "fig, axs = plt.subplots(1,2)\n",
    "axs[0].axis(\"equal\")\n",
    "axs[0].plot(x3,y3)\n",
    "axs[0].title.set_text(\"Real x and y\")\n",
    "axs[1].axis(\"equal\")\n",
    "axs[1].plot(np.real(heart_complex),np.imag(heart_complex))\n",
    "axs[1].title.set_text(\"Complex numbers\")\n",
    "plt.show()"
   ]
  },
  {
   "cell_type": "markdown",
   "metadata": {},
   "source": [
    "## Fourier series of a shape\n",
    "* The complex numbers in the array is used to create the corresponding Fourier series\n",
    "* In this case we use FFT, Fast Fourier Transform, to calculate the Fourier series and its inverse.\n",
    "* We plot again to confirm the transform and inverse is identical to the orginal"
   ]
  },
  {
   "cell_type": "code",
   "execution_count": null,
   "metadata": {},
   "outputs": [],
   "source": [
    "fft=np.fft.fft(heart_complex)\n",
    "#By default FFT generates as many frequencies as was in the input\n",
    "#fft[0] contains zero frequency, this is actually the centerpoint\n",
    "#fft[1] and fft[n-1] contain most significant positive and negative frequency\n",
    "#And so on"
   ]
  },
  {
   "cell_type": "code",
   "execution_count": null,
   "metadata": {},
   "outputs": [],
   "source": [
    "ifft=np.fft.ifft(fft)\n",
    "\n",
    "fig, axs = plt.subplots(1,2)\n",
    "axs[0].axis(\"equal\")\n",
    "axs[0].plot(np.real(heart_complex),np.imag(heart_complex))\n",
    "axs[0].title.set_text(\"Complex numbers\")\n",
    "axs[1].axis(\"equal\")\n",
    "axs[1].plot(np.real(ifft),np.imag(ifft))\n",
    "axs[1].title.set_text(\"Inversed FFT\")\n",
    "plt.show()"
   ]
  },
  {
   "cell_type": "markdown",
   "metadata": {},
   "source": [
    "## Frequency contents in heart shape\n",
    "* The diagram below shows the amplitudes for the different frequencies\n",
    "* At 0(from left) you see the mean value\n",
    "* At 1(from left) you see the amplitude of the lowest positive frequency\n",
    "* At the right most position you see the amplitude of the lowest negative frequency"
   ]
  },
  {
   "cell_type": "code",
   "execution_count": null,
   "metadata": {},
   "outputs": [],
   "source": [
    "fftabs=np.abs(fft)\n",
    "\n",
    "fig, axs = plt.subplots(1,1)\n",
    "axs.plot(fftabs)\n",
    "axs.title.set_text(\"Spectrum\")\n",
    "plt.show()"
   ]
  },
  {
   "cell_type": "markdown",
   "metadata": {},
   "source": [
    "## Compression\n",
    "* By reviewing the diagram above you see that almost all amplitudes in the middle of the diagram is close to zero\n",
    "* Lets investigate what happens when we exclude those from the data"
   ]
  },
  {
   "cell_type": "code",
   "execution_count": null,
   "metadata": {},
   "outputs": [],
   "source": [
    "#Retain copy of original data, Python copy by reference\n",
    "fft_reduced=fft.copy()\n",
    "#Lets keep the centerpoint and the ten most significant frequencies (positive and negative)\n",
    "#Set all other values to 0\n",
    "keep=10\n",
    "for i in range(keep,nr_points-keep):\n",
    "    fft_reduced[i]=0\n",
    "ifft_reduced10=np.fft.ifft(fft_reduced)\n",
    "\n",
    "fig, axs = plt.subplots(1,2)\n",
    "axs[0].axis(\"equal\")\n",
    "axs[0].plot(np.real(heart_complex),np.imag(heart_complex))\n",
    "axs[0].title.set_text(\"All frequencies\")\n",
    "axs[1].axis(\"equal\")\n",
    "axs[1].plot(np.real(ifft_reduced10),np.imag(ifft_reduced10))\n",
    "axs[1].title.set_text(\"Reduced frequencies\")\n",
    "plt.show()"
   ]
  },
  {
   "cell_type": "code",
   "execution_count": null,
   "metadata": {},
   "outputs": [],
   "source": [
    "#Retain copy of original data, Python copy by reference\n",
    "fft_reduced=fft.copy()\n",
    "#Lets keep the centerpoint and the most significant frequencies (positive and negative)\n",
    "#First item means keep centerpoint and the 3 most significant frequencies (positive and negative)\n",
    "\n",
    "keep_list=[3,5,7,10,25,50,100,200,400]\n",
    "ifft_reduced=np.zeros(len(keep_list),dtype=type(fft_reduced))\n",
    "\n",
    "for j in range(len(keep_list)-1,-1,-1):\n",
    "    keep=keep_list[j]\n",
    "    for i in range(keep,nr_points-keep):\n",
    "        fft_reduced[i]=0\n",
    "    ifft_reduced[j]=np.fft.ifft(fft_reduced)\n",
    "\n",
    "fig, axs = plt.subplots(2,5)\n",
    "\n",
    "axs[0,0].axis(\"equal\")\n",
    "axs[0,0].plot(np.real(heart_complex),np.imag(heart_complex))\n",
    "axs[0,0].title.set_text(\"All frequencies\")\n",
    "for i in range(0,4):\n",
    "    axs[0,i+1].axis(\"equal\")\n",
    "    axs[0,i+1].plot(np.real(ifft_reduced[i]),np.imag(ifft_reduced[i]))\n",
    "    axs[0,i+1].title.set_text(str(keep_list[i]))\n",
    "for i in range(0,5):\n",
    "    axs[1,i].axis(\"equal\")\n",
    "    axs[1,i].plot(np.real(ifft_reduced[i+4]),np.imag(ifft_reduced[i+4]))\n",
    "    axs[1,i].title.set_text(str(keep_list[i+4]))\n",
    "plt.tight_layout()\n",
    "plt.show()"
   ]
  },
  {
   "cell_type": "markdown",
   "metadata": {},
   "source": [
    "## Conclusions\n",
    "- Baking some gingerbreads gave me the inspiration to this data story\n",
    "- You can represent shapes in the plane with complex number\n",
    "- A series of complex numbers can be transformed with FFT to a Fourier serie\n",
    "- Reviewing the frequency contents proved significant room for compression\n",
    "- In this case it was possible to reduce 1024 complex numbers from the original shape down to 21 and still recognize the gingerbread"
   ]
  },
  {
   "cell_type": "code",
   "execution_count": null,
   "metadata": {},
   "outputs": [],
   "source": [
    "fig, axs = plt.subplots(1,2)\n",
    "axs[0].imshow(img)\n",
    "axs[1].axis(\"equal\")\n",
    "axs[1].plot(np.real(ifft_reduced10),np.imag(ifft_reduced10))\n",
    "plt.show()"
   ]
  },
  {
   "cell_type": "markdown",
   "metadata": {},
   "source": [
    "## Want to learn more?\n",
    "\n",
    "- Watch Mathologer and 3Blue1Brown episodes on Fourier Series on Youtube. Truely amazing"
   ]
  },
  {
   "cell_type": "code",
   "execution_count": null,
   "metadata": {},
   "outputs": [],
   "source": []
  }
 ],
 "metadata": {
  "kernelspec": {
   "display_name": "Python 3",
   "language": "python",
   "name": "python3"
  },
  "language_info": {
   "codemirror_mode": {
    "name": "ipython",
    "version": 3
   },
   "file_extension": ".py",
   "mimetype": "text/x-python",
   "name": "python",
   "nbconvert_exporter": "python",
   "pygments_lexer": "ipython3",
   "version": "3.7.4"
  }
 },
 "nbformat": 4,
 "nbformat_minor": 2
}
